{
 "cells": [
  {
   "cell_type": "markdown",
   "id": "af88f1e0",
   "metadata": {},
   "source": [
    "# Named Entity Linking (NEL) with DBpedia SPARQL\n",
    "\n",
    "This notebook demonstrates how to use the `get_best_match` function to link an extracted organization name from a news article to its corresponding entity in DBpedia."
   ]
  },
  {
   "cell_type": "code",
   "execution_count": null,
   "id": "c78f5cfd",
   "metadata": {},
   "outputs": [],
   "source": [
    "!pip install SPARQLWrapper pandas"
   ]
  },
  {
   "cell_type": "code",
   "execution_count": null,
   "id": "c505ed87",
   "metadata": {},
   "outputs": [],
   "source": [
    "from SPARQLWrapper import SPARQLWrapper, JSON\n",
    "import pandas as pd\n",
    "from difflib import SequenceMatcher\n",
    "\n",
    "# DBpedia SPARQL Endpoint\n",
    "DBPEDIA_SPARQL_URL = \"http://dbpedia.org/sparql\"\n",
    "\n",
    "def get_best_match(org_name):\n",
    "    \"\"\"Fetch the best-matching company entity from DBpedia using SPARQL.\"\"\"\n",
    "    \n",
    "    # SPARQL Query with Dynamic Organization Name\n",
    "    sparql_query = f\"\"\"\n",
    "    SELECT ?company ?label ?industry ?country ?abstract ?wikiPage WHERE {{\n",
    "      ?company rdf:type dbo:Company.\n",
    "      ?company rdfs:label ?label.\n",
    "      \n",
    "      OPTIONAL {{ ?company dbo:industry ?industry. }}\n",
    "      OPTIONAL {{ ?company dbo:country ?country. }}\n",
    "      OPTIONAL {{ ?company dbo:abstract ?abstract. }}\n",
    "      OPTIONAL {{ ?company foaf:isPrimaryTopicOf ?wikiPage. }}\n",
    "\n",
    "      FILTER (CONTAINS(LCASE(?label), LCASE(\"{org_name}\")))\n",
    "      FILTER (lang(?label) = 'en')\n",
    "      FILTER (lang(?abstract) = 'en')\n",
    "    }}\n",
    "    LIMIT 5\n",
    "    \"\"\"\n",
    "\n",
    "    sparql = SPARQLWrapper(DBPEDIA_SPARQL_URL)\n",
    "    sparql.setQuery(sparql_query)\n",
    "    sparql.setReturnFormat(JSON)\n",
    "    \n",
    "    results = sparql.query().convert()\n",
    "    matches = results[\"results\"][\"bindings\"]\n",
    "\n",
    "    if not matches:\n",
    "        return None\n",
    "\n",
    "    # Rank results by similarity score\n",
    "    ranked_matches = sorted(matches, key=lambda x: SequenceMatcher(None, org_name.lower(), x[\"label\"][\"value\"].lower()).ratio(), reverse=True)\n",
    "\n",
    "    # Best match\n",
    "    best_match = ranked_matches[0]\n",
    "\n",
    "    return {\n",
    "        \"Matched Entity\": best_match[\"label\"][\"value\"],\n",
    "        \"Industry\": best_match[\"industry\"][\"value\"] if \"industry\" in best_match else \"Unknown\",\n",
    "        \"Country\": best_match[\"country\"][\"value\"] if \"country\" in best_match else \"Unknown\",\n",
    "        \"Description\": best_match[\"abstract\"][\"value\"] if \"abstract\" in best_match else \"No description available\",\n",
    "        \"Wikipedia URL\": best_match[\"wikiPage\"][\"value\"] if \"wikiPage\" in best_match else \"No URL available\"\n",
    "    }\n",
    "\n",
    "if __name__ == \"__main__\":\n",
    "    org_name = input(\"Enter an organization name: \")\n",
    "    best_match = get_best_match(org_name)\n",
    "\n",
    "    if best_match:\n",
    "        print(\"Best Matching Entity Found:\")\n",
    "        for key, value in best_match.items():\n",
    "            print(f\"{key}: {value}\")\n",
    "    else:\n",
    "        print(\"No matching entity found.\")\n"
   ]
  },
  {
   "cell_type": "code",
   "execution_count": null,
   "id": "7504516c",
   "metadata": {},
   "outputs": [],
   "source": [
    "# Test the function with an example entity\n",
    "org_name = \"Apple Inc.\"  # Replace with an extracted organization name\n",
    "best_match = get_best_match(org_name)\n",
    "\n",
    "# Display results\n",
    "if best_match:\n",
    "    print(\"Best Matching Entity Found:\")\n",
    "    for key, value in best_match.items():\n",
    "        print(f\"{key}: {value}\")\n",
    "else:\n",
    "    print(\"No matching entity found.\")"
   ]
  }
 ],
 "metadata": {
  "kernelspec": {
   "display_name": "Python 3.11.0 64-bit",
   "language": "python",
   "name": "python3"
  },
  "language_info": {
   "name": "python",
   "version": "3.11.0"
  },
  "vscode": {
   "interpreter": {
    "hash": "5238573367df39f7286bb46f9ff5f08f63a01a80960060ce41e3c79b190280fa"
   }
  }
 },
 "nbformat": 4,
 "nbformat_minor": 5
}

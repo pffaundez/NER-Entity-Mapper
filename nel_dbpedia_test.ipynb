{
 "cells": [
  {
   "cell_type": "markdown",
   "id": "af88f1e0",
   "metadata": {},
   "source": [
    "# Named Entity Linking (NEL) with DBpedia SPARQL\n",
    "\n",
    "This notebook demonstrates how to use the `get_best_match` function to link an extracted organization name from a news article to its corresponding entity in DBpedia."
   ]
  },
  {
   "cell_type": "code",
   "execution_count": 1,
   "id": "c78f5cfd",
   "metadata": {},
   "outputs": [
    {
     "name": "stdout",
     "output_type": "stream",
     "text": [
      "Defaulting to user installation because normal site-packages is not writeable\n",
      "Collecting SPARQLWrapper\n",
      "  Downloading SPARQLWrapper-2.0.0-py3-none-any.whl.metadata (2.0 kB)\n",
      "Requirement already satisfied: pandas in c:\\users\\pablofabianfaundezga\\appdata\\roaming\\python\\python311\\site-packages (1.5.2)\n",
      "Requirement already satisfied: rdflib>=6.1.1 in c:\\users\\pablofabianfaundezga\\appdata\\roaming\\python\\python311\\site-packages (from SPARQLWrapper) (7.1.1)\n",
      "Requirement already satisfied: python-dateutil>=2.8.1 in c:\\users\\pablofabianfaundezga\\appdata\\roaming\\python\\python311\\site-packages (from pandas) (2.8.2)\n",
      "Requirement already satisfied: pytz>=2020.1 in c:\\users\\pablofabianfaundezga\\appdata\\roaming\\python\\python311\\site-packages (from pandas) (2023.3)\n",
      "Requirement already satisfied: numpy>=1.21.0 in c:\\users\\pablofabianfaundezga\\appdata\\roaming\\python\\python311\\site-packages (from pandas) (1.23.5)\n",
      "Requirement already satisfied: six>=1.5 in c:\\users\\pablofabianfaundezga\\appdata\\roaming\\python\\python311\\site-packages (from python-dateutil>=2.8.1->pandas) (1.16.0)\n",
      "Requirement already satisfied: pyparsing<4,>=2.1.0 in c:\\users\\pablofabianfaundezga\\appdata\\roaming\\python\\python311\\site-packages (from rdflib>=6.1.1->SPARQLWrapper) (3.0.9)\n",
      "Downloading SPARQLWrapper-2.0.0-py3-none-any.whl (28 kB)\n",
      "Installing collected packages: SPARQLWrapper\n",
      "Successfully installed SPARQLWrapper-2.0.0\n"
     ]
    },
    {
     "name": "stderr",
     "output_type": "stream",
     "text": [
      "  WARNING: The script rqw.exe is installed in 'C:\\Users\\PabloFabianFaundezGa\\AppData\\Roaming\\Python\\Python311\\Scripts' which is not on PATH.\n",
      "  Consider adding this directory to PATH or, if you prefer to suppress this warning, use --no-warn-script-location.\n",
      "\n",
      "[notice] A new release of pip is available: 23.3.1 -> 25.0.1\n",
      "[notice] To update, run: python.exe -m pip install --upgrade pip\n"
     ]
    }
   ],
   "source": [
    "!pip install SPARQLWrapper pandas"
   ]
  },
  {
   "cell_type": "code",
   "execution_count": 2,
   "id": "c505ed87",
   "metadata": {},
   "outputs": [
    {
     "name": "stdout",
     "output_type": "stream",
     "text": [
      "Best Matching Entity Found:\n",
      "Matched Entity: Microsoft Press\n",
      "Industry: Unknown\n",
      "Country: http://dbpedia.org/resource/United_States\n",
      "Description: Microsoft Press is the publishing arm of Microsoft, usually releasing books dealing with various current Microsoft technologies. Microsoft Press' first introduced books were The Apple Macintosh Book by Cary Lu and Exploring the IBM PCjr Home Computer by Peter Norton in 1984 at the West Coast Computer Faire. The publisher has gone on to release books by other recognizable authors such as Charles Petzold, Steve McConnell, Mark Russinovich and . Following a deal signed in 2009, O'Reilly Media became the official distributor of Microsoft Press books. In 2014, the distributor was changed to Pearson. In July 2016, Microsoft Press editorial staff was laid off.\n",
      "Wikipedia URL: http://en.wikipedia.org/wiki/Microsoft_Press\n"
     ]
    }
   ],
   "source": [
    "from SPARQLWrapper import SPARQLWrapper, JSON\n",
    "import pandas as pd\n",
    "from difflib import SequenceMatcher\n",
    "\n",
    "# DBpedia SPARQL Endpoint\n",
    "DBPEDIA_SPARQL_URL = \"http://dbpedia.org/sparql\"\n",
    "\n",
    "def get_best_match(org_name):\n",
    "    \"\"\"Fetch the best-matching company entity from DBpedia using SPARQL.\"\"\"\n",
    "    \n",
    "    # SPARQL Query with Dynamic Organization Name\n",
    "    sparql_query = f\"\"\"\n",
    "    SELECT ?company ?label ?industry ?country ?abstract ?wikiPage WHERE {{\n",
    "      ?company rdf:type dbo:Company.\n",
    "      ?company rdfs:label ?label.\n",
    "      \n",
    "      OPTIONAL {{ ?company dbo:industry ?industry. }}\n",
    "      OPTIONAL {{ ?company dbo:country ?country. }}\n",
    "      OPTIONAL {{ ?company dbo:abstract ?abstract. }}\n",
    "      OPTIONAL {{ ?company foaf:isPrimaryTopicOf ?wikiPage. }}\n",
    "\n",
    "      FILTER (CONTAINS(LCASE(?label), LCASE(\"{org_name}\")))\n",
    "      FILTER (lang(?label) = 'en')\n",
    "      FILTER (lang(?abstract) = 'en')\n",
    "    }}\n",
    "    LIMIT 5\n",
    "    \"\"\"\n",
    "\n",
    "    sparql = SPARQLWrapper(DBPEDIA_SPARQL_URL)\n",
    "    sparql.setQuery(sparql_query)\n",
    "    sparql.setReturnFormat(JSON)\n",
    "    \n",
    "    results = sparql.query().convert()\n",
    "    matches = results[\"results\"][\"bindings\"]\n",
    "\n",
    "    if not matches:\n",
    "        return None\n",
    "\n",
    "    # Rank results by similarity score\n",
    "    ranked_matches = sorted(matches, key=lambda x: SequenceMatcher(None, org_name.lower(), x[\"label\"][\"value\"].lower()).ratio(), reverse=True)\n",
    "\n",
    "    # Best match\n",
    "    best_match = ranked_matches[0]\n",
    "\n",
    "    return {\n",
    "        \"Matched Entity\": best_match[\"label\"][\"value\"],\n",
    "        \"Industry\": best_match[\"industry\"][\"value\"] if \"industry\" in best_match else \"Unknown\",\n",
    "        \"Country\": best_match[\"country\"][\"value\"] if \"country\" in best_match else \"Unknown\",\n",
    "        \"Description\": best_match[\"abstract\"][\"value\"] if \"abstract\" in best_match else \"No description available\",\n",
    "        \"Wikipedia URL\": best_match[\"wikiPage\"][\"value\"] if \"wikiPage\" in best_match else \"No URL available\"\n",
    "    }\n",
    "\n",
    "if __name__ == \"__main__\":\n",
    "    org_name = input(\"Enter an organization name: \")\n",
    "    best_match = get_best_match(org_name)\n",
    "\n",
    "    if best_match:\n",
    "        print(\"Best Matching Entity Found:\")\n",
    "        for key, value in best_match.items():\n",
    "            print(f\"{key}: {value}\")\n",
    "    else:\n",
    "        print(\"No matching entity found.\")\n"
   ]
  },
  {
   "cell_type": "code",
   "execution_count": 3,
   "id": "7504516c",
   "metadata": {},
   "outputs": [
    {
     "name": "stdout",
     "output_type": "stream",
     "text": [
      "Best Matching Entity Found:\n",
      "Matched Entity: Apple Inc.\n",
      "Industry: http://dbpedia.org/resource/Consumer_electronics\n",
      "Country: Unknown\n",
      "Description: Apple Inc. is an American multinational technology company headquartered in Cupertino, California, United States. Apple is the largest technology company by revenue (totaling US$365.8 billion in 2021) and, as of June 2022, is the world's biggest company by market capitalization, the fourth-largest personal computer vendor by unit sales and second-largest mobile phone manufacturer. It is one of the Big Five American information technology companies, alongside Alphabet, Amazon, Meta, and Microsoft. Apple was founded as Apple Computer Company on April 1, 1976, by Steve Jobs, Steve Wozniak and Ronald Wayne to develop and sell Wozniak's Apple I personal computer. It was incorporated by Jobs and Wozniak as Apple Computer, Inc. in 1977 and the company's next computer, the Apple II, became a best seller and one of the first mass-produced microcomputers. Apple went public in 1980 to instant financial success. The company developed computers featuring innovative graphical user interfaces, including the 1984 original Macintosh, announced that year in a critically acclaimed advertisement. By 1985, the high cost of its products and power struggles between executives caused problems. Wozniak stepped back from Apple amicably and pursued other ventures, while Jobs resigned bitterly and founded NeXT, taking some Apple employees with him. As the market for personal computers expanded and evolved throughout the 1990s, Apple lost considerable market share to the lower-priced duopoly of the Microsoft Windows operating system on Intel-powered PC clones (also known as \"Wintel\"). In 1997, weeks away from bankruptcy, the company bought NeXT to resolve Apple's unsuccessful operating system strategy and entice Jobs back to the company. Over the next decade, Jobs guided Apple back to profitability through a number of tactics including introducing the iMac, iPod, iPhone and iPad to critical acclaim, launching \"Think different\" and other memorable advertising campaigns, opening the Apple Store retail chain, and acquiring numerous companies to broaden the company's product portfolio. When Jobs resigned in 2011 for health reasons, and died two months later, he was succeeded as CEO by Tim Cook. Apple became the first publicly traded U.S. company to be valued at over $1 trillion in August 2018, then $2 trillion in August 2020, and most recently $3 trillion in January 2022. The company receives criticism regarding the labor practices of its contractors, its environmental practices, and its business ethics, including anti-competitive practices and materials sourcing. Nevertheless, the company has a large following and enjoys a high level of brand loyalty. It is ranked as one of the world's most valuable brands.\n",
      "Wikipedia URL: http://en.wikipedia.org/wiki/Apple_Inc.\n"
     ]
    }
   ],
   "source": [
    "# Test the function with an example entity\n",
    "org_name = \"Apple Inc.\"  # Replace with an extracted organization name\n",
    "best_match = get_best_match(org_name)\n",
    "\n",
    "# Display results\n",
    "if best_match:\n",
    "    print(\"Best Matching Entity Found:\")\n",
    "    for key, value in best_match.items():\n",
    "        print(f\"{key}: {value}\")\n",
    "else:\n",
    "    print(\"No matching entity found.\")"
   ]
  },
  {
   "cell_type": "code",
   "execution_count": null,
   "id": "25bbc8b9",
   "metadata": {},
   "outputs": [],
   "source": []
  }
 ],
 "metadata": {
  "kernelspec": {
   "display_name": "Python 3.11.0 64-bit",
   "language": "python",
   "name": "python3"
  },
  "language_info": {
   "codemirror_mode": {
    "name": "ipython",
    "version": 3
   },
   "file_extension": ".py",
   "mimetype": "text/x-python",
   "name": "python",
   "nbconvert_exporter": "python",
   "pygments_lexer": "ipython3",
   "version": "3.11.0"
  },
  "vscode": {
   "interpreter": {
    "hash": "5238573367df39f7286bb46f9ff5f08f63a01a80960060ce41e3c79b190280fa"
   }
  }
 },
 "nbformat": 4,
 "nbformat_minor": 5
}

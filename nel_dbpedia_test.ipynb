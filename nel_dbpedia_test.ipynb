{
 "cells": [
  {
   "cell_type": "markdown",
   "id": "af88f1e0",
   "metadata": {},
   "source": [
    "# Named Entity Linking (NEL) with DBpedia SPARQL\n",
    "\n",
    "This notebook demonstrates how to use the `get_best_match` function to link an extracted organization name from a news article to its corresponding entity in DBpedia."
   ]
  },
  {
   "cell_type": "code",
   "execution_count": 1,
   "id": "c78f5cfd",
   "metadata": {},
   "outputs": [
    {
     "name": "stdout",
     "output_type": "stream",
     "text": [
      "Defaulting to user installation because normal site-packages is not writeable\n",
      "Collecting SPARQLWrapper\n",
      "  Downloading SPARQLWrapper-2.0.0-py3-none-any.whl.metadata (2.0 kB)\n",
      "Requirement already satisfied: pandas in c:\\users\\pablofabianfaundezga\\appdata\\roaming\\python\\python311\\site-packages (1.5.2)\n",
      "Requirement already satisfied: rdflib>=6.1.1 in c:\\users\\pablofabianfaundezga\\appdata\\roaming\\python\\python311\\site-packages (from SPARQLWrapper) (7.1.1)\n",
      "Requirement already satisfied: python-dateutil>=2.8.1 in c:\\users\\pablofabianfaundezga\\appdata\\roaming\\python\\python311\\site-packages (from pandas) (2.8.2)\n",
      "Requirement already satisfied: pytz>=2020.1 in c:\\users\\pablofabianfaundezga\\appdata\\roaming\\python\\python311\\site-packages (from pandas) (2023.3)\n",
      "Requirement already satisfied: numpy>=1.21.0 in c:\\users\\pablofabianfaundezga\\appdata\\roaming\\python\\python311\\site-packages (from pandas) (1.23.5)\n",
      "Requirement already satisfied: six>=1.5 in c:\\users\\pablofabianfaundezga\\appdata\\roaming\\python\\python311\\site-packages (from python-dateutil>=2.8.1->pandas) (1.16.0)\n",
      "Requirement already satisfied: pyparsing<4,>=2.1.0 in c:\\users\\pablofabianfaundezga\\appdata\\roaming\\python\\python311\\site-packages (from rdflib>=6.1.1->SPARQLWrapper) (3.0.9)\n",
      "Downloading SPARQLWrapper-2.0.0-py3-none-any.whl (28 kB)\n",
      "Installing collected packages: SPARQLWrapper\n",
      "Successfully installed SPARQLWrapper-2.0.0\n"
     ]
    },
    {
     "name": "stderr",
     "output_type": "stream",
     "text": [
      "  WARNING: The script rqw.exe is installed in 'C:\\Users\\PabloFabianFaundezGa\\AppData\\Roaming\\Python\\Python311\\Scripts' which is not on PATH.\n",
      "  Consider adding this directory to PATH or, if you prefer to suppress this warning, use --no-warn-script-location.\n",
      "\n",
      "[notice] A new release of pip is available: 23.3.1 -> 25.0.1\n",
      "[notice] To update, run: python.exe -m pip install --upgrade pip\n"
     ]
    }
   ],
   "source": [
    "!pip install SPARQLWrapper pandas"
   ]
  },
  {
   "cell_type": "code",
   "execution_count": 1,
   "id": "c505ed87",
   "metadata": {},
   "outputs": [
    {
     "name": "stdout",
     "output_type": "stream",
     "text": [
      "Best Matching Entity Found:\n",
      "Matched Entity: Haribo\n",
      "Industry: Unknown\n",
      "Country: Unknown\n",
      "Description: Haribo (/ˈhærɪboʊ/ HARR-i-boh) is a German confectionery company founded by Hans Riegel Sr.. It began in Kessenich, Bonn, Germany. The name \"Haribo\" is a syllabic abbreviation formed from Hans Riegel Bonn. The company created the first gummy candy in 1960 in the form of little gummy bears called Gummibärchen. The current headquarters are in Grafschaft, Germany.\n",
      "Wikipedia URL: http://en.wikipedia.org/wiki/Haribo\n"
     ]
    }
   ],
   "source": [
    "from SPARQLWrapper import SPARQLWrapper, JSON\n",
    "import pandas as pd\n",
    "from difflib import SequenceMatcher\n",
    "\n",
    "# DBpedia SPARQL Endpoint\n",
    "DBPEDIA_SPARQL_URL = \"http://dbpedia.org/sparql\"\n",
    "\n",
    "def get_best_match(org_name):\n",
    "    \"\"\"Fetch the best-matching company entity from DBpedia using SPARQL.\"\"\"\n",
    "    \n",
    "    # SPARQL Query with Dynamic Organization Name\n",
    "    sparql_query = f\"\"\"\n",
    "    SELECT ?company ?label ?industry ?country ?abstract ?wikiPage WHERE {{\n",
    "      ?company rdf:type dbo:Company.\n",
    "      ?company rdfs:label ?label.\n",
    "      \n",
    "      OPTIONAL {{ ?company dbo:industry ?industry. }}\n",
    "      OPTIONAL {{ ?company dbo:country ?country. }}\n",
    "      OPTIONAL {{ ?company dbo:abstract ?abstract. }}\n",
    "      OPTIONAL {{ ?company foaf:isPrimaryTopicOf ?wikiPage. }}\n",
    "\n",
    "      FILTER (CONTAINS(LCASE(?label), LCASE(\"{org_name}\")))\n",
    "      FILTER (lang(?label) = 'en')\n",
    "      FILTER (lang(?abstract) = 'en')\n",
    "    }}\n",
    "    LIMIT 5\n",
    "    \"\"\"\n",
    "\n",
    "    sparql = SPARQLWrapper(DBPEDIA_SPARQL_URL)\n",
    "    sparql.setQuery(sparql_query)\n",
    "    sparql.setReturnFormat(JSON)\n",
    "    \n",
    "    results = sparql.query().convert()\n",
    "    matches = results[\"results\"][\"bindings\"]\n",
    "\n",
    "    if not matches:\n",
    "        return None\n",
    "\n",
    "    # Rank results by similarity score\n",
    "    ranked_matches = sorted(matches, key=lambda x: SequenceMatcher(None, org_name.lower(), x[\"label\"][\"value\"].lower()).ratio(), reverse=True)\n",
    "\n",
    "    # Best match\n",
    "    best_match = ranked_matches[0]\n",
    "\n",
    "    return {\n",
    "        \"Matched Entity\": best_match[\"label\"][\"value\"],\n",
    "        \"Industry\": best_match[\"industry\"][\"value\"] if \"industry\" in best_match else \"Unknown\",\n",
    "        \"Country\": best_match[\"country\"][\"value\"] if \"country\" in best_match else \"Unknown\",\n",
    "        \"Description\": best_match[\"abstract\"][\"value\"] if \"abstract\" in best_match else \"No description available\",\n",
    "        \"Wikipedia URL\": best_match[\"wikiPage\"][\"value\"] if \"wikiPage\" in best_match else \"No URL available\"\n",
    "    }\n",
    "\n",
    "if __name__ == \"__main__\":\n",
    "    org_name = input(\"Enter an organization name: \")\n",
    "    best_match = get_best_match(org_name)\n",
    "\n",
    "    if best_match:\n",
    "        print(\"Best Matching Entity Found:\")\n",
    "        for key, value in best_match.items():\n",
    "            print(f\"{key}: {value}\")\n",
    "    else:\n",
    "        print(\"No matching entity found.\")\n"
   ]
  },
  {
   "cell_type": "code",
   "execution_count": 5,
   "id": "7504516c",
   "metadata": {},
   "outputs": [
    {
     "name": "stdout",
     "output_type": "stream",
     "text": [
      "Best Matching Entity Found:\n",
      "Matched Entity: DHL Air UK\n",
      "Industry: http://dbpedia.org/resource/Air_Transport\n",
      "Country: Unknown\n",
      "Description: DHL Air UK, incorporated as DHL Air Ltd., is a British cargo airline based in Orbital Park, Hounslow, London Borough of Hounslow. It is wholly owned by Deutsche Post and provides services on the group's DHL-branded parcel and express network in Europe. Its main base is East Midlands Airport. It forms a part of the greater DHL Aviation division.\n",
      "Wikipedia URL: http://en.wikipedia.org/wiki/DHL_Air_UK\n"
     ]
    }
   ],
   "source": [
    "# Test the function with an example entity\n",
    "org_name = \"dhl\"  # Replace with an extracted organization name\n",
    "best_match = get_best_match(org_name)\n",
    "\n",
    "# Display results\n",
    "if best_match:\n",
    "    print(\"Best Matching Entity Found:\")\n",
    "    for key, value in best_match.items():\n",
    "        print(f\"{key}: {value}\")\n",
    "else:\n",
    "    print(\"No matching entity found.\")"
   ]
  },
  {
   "cell_type": "code",
   "execution_count": 6,
   "id": "25bbc8b9",
   "metadata": {},
   "outputs": [],
   "source": [
    "import spacy\n",
    "from SPARQLWrapper import SPARQLWrapper, JSON\n",
    "import pandas as pd\n",
    "from difflib import SequenceMatcher"
   ]
  },
  {
   "cell_type": "code",
   "execution_count": 7,
   "id": "50d40c73",
   "metadata": {},
   "outputs": [],
   "source": [
    "# Load spaCy's English NER model\n",
    "nlp = spacy.load(\"en_core_web_sm\")"
   ]
  },
  {
   "cell_type": "code",
   "execution_count": 8,
   "id": "8b505f1c",
   "metadata": {},
   "outputs": [],
   "source": [
    "def extract_organizations(text):\n",
    "    \"\"\"Extract organizations (ORG) from the input text using spaCy NER.\"\"\"\n",
    "    doc = nlp(text)\n",
    "    orgs = list(set(ent.text for ent in doc.ents if ent.label_ == \"ORG\"))\n",
    "    return orgs"
   ]
  },
  {
   "cell_type": "code",
   "execution_count": 9,
   "id": "eebbd5f2",
   "metadata": {},
   "outputs": [],
   "source": [
    "def get_best_match(org_name):\n",
    "    \"\"\"Fetch the best-matching company entity from DBpedia using SPARQL.\"\"\"\n",
    "    \n",
    "    # SPARQL Query with Dynamic Organization Name\n",
    "    sparql_query = f\"\"\"\n",
    "    SELECT ?company ?label ?wikiPage WHERE {{\n",
    "      ?company rdf:type dbo:Company.\n",
    "      ?company rdfs:label ?label.\n",
    "      OPTIONAL {{ ?company foaf:isPrimaryTopicOf ?wikiPage. }}\n",
    "\n",
    "      FILTER (CONTAINS(LCASE(?label), LCASE(\"{org_name}\")))\n",
    "      FILTER (lang(?label) = 'en')\n",
    "    }}\n",
    "    LIMIT 5\n",
    "    \"\"\"\n",
    "\n",
    "    sparql = SPARQLWrapper(\"http://dbpedia.org/sparql\")\n",
    "    sparql.setQuery(sparql_query)\n",
    "    sparql.setReturnFormat(JSON)\n",
    "    \n",
    "    results = sparql.query().convert()\n",
    "    matches = results[\"results\"][\"bindings\"]\n",
    "\n",
    "    if not matches:\n",
    "        return None\n",
    "\n",
    "    # Rank results by similarity score\n",
    "    ranked_matches = sorted(matches, key=lambda x: SequenceMatcher(None, org_name.lower(), x[\"label\"][\"value\"].lower()).ratio(), reverse=True)\n",
    "\n",
    "    # Best match\n",
    "    best_match = ranked_matches[0]\n",
    "\n",
    "    return {\n",
    "        \"Matched Entity\": best_match[\"label\"][\"value\"],\n",
    "        \"Wikipedia URL\": best_match[\"wikiPage\"][\"value\"] if \"wikiPage\" in best_match else \"No URL available\"\n",
    "    }\n"
   ]
  },
  {
   "cell_type": "code",
   "execution_count": 10,
   "id": "6021b56e",
   "metadata": {},
   "outputs": [],
   "source": [
    "def ner_nel_pipeline(text):\n",
    "    \"\"\"Pipeline that extracts ORGs using NER and links them using NEL.\"\"\"\n",
    "    orgs = extract_organizations(text)\n",
    "    results = []\n",
    "\n",
    "    for org in orgs:\n",
    "        nel_result = get_best_match(org)\n",
    "        if nel_result:\n",
    "            results.append({\n",
    "                \"Extracted ORG\": org,\n",
    "                \"Matched Entity\": nel_result[\"Matched Entity\"],\n",
    "                \"Wikipedia URL\": nel_result[\"Wikipedia URL\"]\n",
    "            })\n",
    "    \n",
    "    return pd.DataFrame(results)"
   ]
  },
  {
   "cell_type": "code",
   "execution_count": 13,
   "id": "1f2dd807",
   "metadata": {},
   "outputs": [
    {
     "name": "stdout",
     "output_type": "stream",
     "text": [
      "  Extracted ORG    Matched Entity  \\\n",
      "0     Microsoft  Microsoft Amalga   \n",
      "1    Apple Inc.        Apple Inc.   \n",
      "2        Google            Google   \n",
      "3        Amazon        Amazon.com   \n",
      "\n",
      "                                   Wikipedia URL  \n",
      "0  http://en.wikipedia.org/wiki/Microsoft_Amalga  \n",
      "1        http://en.wikipedia.org/wiki/Apple_Inc.  \n",
      "2            http://en.wikipedia.org/wiki/Google  \n",
      "3        http://en.wikipedia.org/wiki/Amazon.com  \n"
     ]
    }
   ],
   "source": [
    "if __name__ == \"__main__\":\n",
    "    sample_text = \"\"\"Apple Inc. and Microsoft are two of the largest tech companies. \n",
    "                     Google and Amazon are also major players in the industry.\"\"\"\n",
    "\n",
    "    df_results = ner_nel_pipeline(sample_text)\n",
    "    print(df_results)"
   ]
  }
 ],
 "metadata": {
  "kernelspec": {
   "display_name": "Python 3.11.0 64-bit",
   "language": "python",
   "name": "python3"
  },
  "language_info": {
   "codemirror_mode": {
    "name": "ipython",
    "version": 3
   },
   "file_extension": ".py",
   "mimetype": "text/x-python",
   "name": "python",
   "nbconvert_exporter": "python",
   "pygments_lexer": "ipython3",
   "version": "3.11.0"
  },
  "vscode": {
   "interpreter": {
    "hash": "5238573367df39f7286bb46f9ff5f08f63a01a80960060ce41e3c79b190280fa"
   }
  }
 },
 "nbformat": 4,
 "nbformat_minor": 5
}
